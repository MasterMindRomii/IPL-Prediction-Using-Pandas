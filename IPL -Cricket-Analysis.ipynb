{
 "cells": [
  {
   "cell_type": "markdown",
   "id": "ccfb888f-42e9-4898-b4f9-fb233e48aaa4",
   "metadata": {},
   "source": [
    "## Import Neccessary Libraries "
   ]
  },
  {
   "cell_type": "code",
   "execution_count": 1,
   "id": "f2f56a01-805a-4466-aab8-358c60d6b333",
   "metadata": {},
   "outputs": [],
   "source": [
    "import pandas as pd\n",
    "import matplotlib.pyplot as plt\n",
    "import seaborn as sns\n",
    "import datetime as dt"
   ]
  },
  {
   "cell_type": "markdown",
   "id": "54f56a52-e03c-4c5f-bfa8-d4d6b22a9409",
   "metadata": {},
   "source": [
    "## Import Csv Files"
   ]
  },
  {
   "cell_type": "code",
   "execution_count": 2,
   "id": "db35cec4-e0f8-4740-bfdf-65a77d7e6716",
   "metadata": {},
   "outputs": [],
   "source": [
    "dim_match_summary = pd.read_csv(\"D:\\Power BI Project\\Codebasics Resume Project Challenge 10\\C10_Input_Files\\datasets\\dim_match_summary.csv\")\n",
    "dim_players = pd.read_csv(\"D:\\Power BI Project\\Codebasics Resume Project Challenge 10\\C10_Input_Files\\datasets\\dim_players.csv\")\n",
    "fact_batting = pd.read_csv(r\"D:\\Power BI Project\\Codebasics Resume Project Challenge 10\\C10_Input_Files\\datasets\\fact_bating_summary.csv\")\n",
    "fact_balling = pd.read_csv(r\"D:\\Power BI Project\\Codebasics Resume Project Challenge 10\\C10_Input_Files\\datasets\\fact_bowling_summary.csv\")"
   ]
  },
  {
   "cell_type": "markdown",
   "id": "3ba742b9-08a4-4d40-a31a-c9897a3aabad",
   "metadata": {},
   "source": [
    "## Read CSV Files"
   ]
  },
  {
   "cell_type": "code",
   "execution_count": 3,
   "id": "1a2b5dde-c0d8-46a1-9d2e-7eb8bc515c27",
   "metadata": {},
   "outputs": [
    {
     "data": {
      "text/html": [
       "<div>\n",
       "<style scoped>\n",
       "    .dataframe tbody tr th:only-of-type {\n",
       "        vertical-align: middle;\n",
       "    }\n",
       "\n",
       "    .dataframe tbody tr th {\n",
       "        vertical-align: top;\n",
       "    }\n",
       "\n",
       "    .dataframe thead th {\n",
       "        text-align: right;\n",
       "    }\n",
       "</style>\n",
       "<table border=\"1\" class=\"dataframe\">\n",
       "  <thead>\n",
       "    <tr style=\"text-align: right;\">\n",
       "      <th></th>\n",
       "      <th>team1</th>\n",
       "      <th>team2</th>\n",
       "      <th>winner</th>\n",
       "      <th>margin</th>\n",
       "      <th>matchDate</th>\n",
       "      <th>match_id</th>\n",
       "    </tr>\n",
       "  </thead>\n",
       "  <tbody>\n",
       "    <tr>\n",
       "      <th>0</th>\n",
       "      <td>Super Kings</td>\n",
       "      <td>KKR</td>\n",
       "      <td>Super Kings</td>\n",
       "      <td>27 runs</td>\n",
       "      <td>Oct 15, 2021</td>\n",
       "      <td>T203817</td>\n",
       "    </tr>\n",
       "    <tr>\n",
       "      <th>1</th>\n",
       "      <td>Capitals</td>\n",
       "      <td>KKR</td>\n",
       "      <td>KKR</td>\n",
       "      <td>3 wickets</td>\n",
       "      <td>Oct 13, 2021</td>\n",
       "      <td>T206442</td>\n",
       "    </tr>\n",
       "    <tr>\n",
       "      <th>2</th>\n",
       "      <td>RCB</td>\n",
       "      <td>KKR</td>\n",
       "      <td>KKR</td>\n",
       "      <td>4 wickets</td>\n",
       "      <td>Oct 11, 2021</td>\n",
       "      <td>T208597</td>\n",
       "    </tr>\n",
       "    <tr>\n",
       "      <th>3</th>\n",
       "      <td>Capitals</td>\n",
       "      <td>Super Kings</td>\n",
       "      <td>Super Kings</td>\n",
       "      <td>4 wickets</td>\n",
       "      <td>Oct 10, 2021</td>\n",
       "      <td>T201819</td>\n",
       "    </tr>\n",
       "    <tr>\n",
       "      <th>4</th>\n",
       "      <td>Capitals</td>\n",
       "      <td>RCB</td>\n",
       "      <td>RCB</td>\n",
       "      <td>7 wickets</td>\n",
       "      <td>Oct 8, 2021</td>\n",
       "      <td>T205942</td>\n",
       "    </tr>\n",
       "  </tbody>\n",
       "</table>\n",
       "</div>"
      ],
      "text/plain": [
       "         team1        team2       winner     margin     matchDate match_id\n",
       "0  Super Kings          KKR  Super Kings    27 runs  Oct 15, 2021  T203817\n",
       "1     Capitals          KKR          KKR  3 wickets  Oct 13, 2021  T206442\n",
       "2          RCB          KKR          KKR  4 wickets  Oct 11, 2021  T208597\n",
       "3     Capitals  Super Kings  Super Kings  4 wickets  Oct 10, 2021  T201819\n",
       "4     Capitals          RCB          RCB  7 wickets   Oct 8, 2021  T205942"
      ]
     },
     "execution_count": 3,
     "metadata": {},
     "output_type": "execute_result"
    }
   ],
   "source": [
    "dim_match_summary.head()"
   ]
  },
  {
   "cell_type": "code",
   "execution_count": 4,
   "id": "7511ad75-0e9c-48de-aa61-13cadf88102d",
   "metadata": {},
   "outputs": [
    {
     "data": {
      "text/html": [
       "<div>\n",
       "<style scoped>\n",
       "    .dataframe tbody tr th:only-of-type {\n",
       "        vertical-align: middle;\n",
       "    }\n",
       "\n",
       "    .dataframe tbody tr th {\n",
       "        vertical-align: top;\n",
       "    }\n",
       "\n",
       "    .dataframe thead th {\n",
       "        text-align: right;\n",
       "    }\n",
       "</style>\n",
       "<table border=\"1\" class=\"dataframe\">\n",
       "  <thead>\n",
       "    <tr style=\"text-align: right;\">\n",
       "      <th></th>\n",
       "      <th>name</th>\n",
       "      <th>team</th>\n",
       "      <th>battingStyle</th>\n",
       "      <th>bowlingStyle</th>\n",
       "      <th>playingRole</th>\n",
       "    </tr>\n",
       "  </thead>\n",
       "  <tbody>\n",
       "    <tr>\n",
       "      <th>287</th>\n",
       "      <td>AbishekPorel</td>\n",
       "      <td>Capitals</td>\n",
       "      <td>Left hand Bat</td>\n",
       "      <td>Not Available</td>\n",
       "      <td>Wicketkeeper Batter</td>\n",
       "    </tr>\n",
       "    <tr>\n",
       "      <th>288</th>\n",
       "      <td>SisandaMagala</td>\n",
       "      <td>Super Kings</td>\n",
       "      <td>Right hand Bat</td>\n",
       "      <td>Right arm Fast medium</td>\n",
       "      <td>Bowler</td>\n",
       "    </tr>\n",
       "    <tr>\n",
       "      <th>289</th>\n",
       "      <td>MohitRathee</td>\n",
       "      <td>Punjab Kings</td>\n",
       "      <td>Right hand Bat</td>\n",
       "      <td>Legbreak</td>\n",
       "      <td>Allrounder</td>\n",
       "    </tr>\n",
       "    <tr>\n",
       "      <th>290</th>\n",
       "      <td>RajvardhanHangargekar</td>\n",
       "      <td>Super Kings</td>\n",
       "      <td>Right hand Bat</td>\n",
       "      <td>Right arm Fast medium</td>\n",
       "      <td>Bowling Allrounder</td>\n",
       "    </tr>\n",
       "    <tr>\n",
       "      <th>291</th>\n",
       "      <td>ReeceTopley</td>\n",
       "      <td>RCB</td>\n",
       "      <td>Right hand Bat</td>\n",
       "      <td>Left arm Fast medium</td>\n",
       "      <td>Bowler</td>\n",
       "    </tr>\n",
       "  </tbody>\n",
       "</table>\n",
       "</div>"
      ],
      "text/plain": [
       "                      name          team    battingStyle  \\\n",
       "287           AbishekPorel      Capitals   Left hand Bat   \n",
       "288          SisandaMagala   Super Kings  Right hand Bat   \n",
       "289            MohitRathee  Punjab Kings  Right hand Bat   \n",
       "290  RajvardhanHangargekar   Super Kings  Right hand Bat   \n",
       "291            ReeceTopley           RCB  Right hand Bat   \n",
       "\n",
       "              bowlingStyle          playingRole  \n",
       "287          Not Available  Wicketkeeper Batter  \n",
       "288  Right arm Fast medium               Bowler  \n",
       "289               Legbreak           Allrounder  \n",
       "290  Right arm Fast medium   Bowling Allrounder  \n",
       "291   Left arm Fast medium               Bowler  "
      ]
     },
     "execution_count": 4,
     "metadata": {},
     "output_type": "execute_result"
    }
   ],
   "source": [
    "dim_players.tail()"
   ]
  },
  {
   "cell_type": "code",
   "execution_count": 5,
   "id": "b12f47fc-c2d2-4c4d-a94c-ab43d8af6d12",
   "metadata": {},
   "outputs": [
    {
     "data": {
      "text/html": [
       "<div>\n",
       "<style scoped>\n",
       "    .dataframe tbody tr th:only-of-type {\n",
       "        vertical-align: middle;\n",
       "    }\n",
       "\n",
       "    .dataframe tbody tr th {\n",
       "        vertical-align: top;\n",
       "    }\n",
       "\n",
       "    .dataframe thead th {\n",
       "        text-align: right;\n",
       "    }\n",
       "</style>\n",
       "<table border=\"1\" class=\"dataframe\">\n",
       "  <thead>\n",
       "    <tr style=\"text-align: right;\">\n",
       "      <th></th>\n",
       "      <th>match_id</th>\n",
       "      <th>match</th>\n",
       "      <th>teamInnings</th>\n",
       "      <th>battingPos</th>\n",
       "      <th>batsmanName</th>\n",
       "      <th>out/not_out</th>\n",
       "      <th>runs</th>\n",
       "      <th>balls</th>\n",
       "      <th>4s</th>\n",
       "      <th>6s</th>\n",
       "      <th>SR</th>\n",
       "    </tr>\n",
       "  </thead>\n",
       "  <tbody>\n",
       "    <tr>\n",
       "      <th>2850</th>\n",
       "      <td>T205539</td>\n",
       "      <td>Super Giants Vs Royals</td>\n",
       "      <td>Royals</td>\n",
       "      <td>6</td>\n",
       "      <td>RiyanParag</td>\n",
       "      <td>not_out</td>\n",
       "      <td>15</td>\n",
       "      <td>12</td>\n",
       "      <td>1</td>\n",
       "      <td>1</td>\n",
       "      <td>125.00</td>\n",
       "    </tr>\n",
       "    <tr>\n",
       "      <th>1289</th>\n",
       "      <td>T201720</td>\n",
       "      <td>Mumbai Vs Titans</td>\n",
       "      <td>Mumbai</td>\n",
       "      <td>3</td>\n",
       "      <td>SuryakumarYadav</td>\n",
       "      <td>out</td>\n",
       "      <td>13</td>\n",
       "      <td>11</td>\n",
       "      <td>0</td>\n",
       "      <td>1</td>\n",
       "      <td>118.18</td>\n",
       "    </tr>\n",
       "    <tr>\n",
       "      <th>881</th>\n",
       "      <td>T209178</td>\n",
       "      <td>KKR Vs Sunrisers</td>\n",
       "      <td>Sunrisers</td>\n",
       "      <td>3</td>\n",
       "      <td>ManishPandey</td>\n",
       "      <td>not_out</td>\n",
       "      <td>61</td>\n",
       "      <td>44</td>\n",
       "      <td>2</td>\n",
       "      <td>3</td>\n",
       "      <td>138.63</td>\n",
       "    </tr>\n",
       "    <tr>\n",
       "      <th>556</th>\n",
       "      <td>T201595</td>\n",
       "      <td>KKR Vs Capitals</td>\n",
       "      <td>Capitals</td>\n",
       "      <td>4</td>\n",
       "      <td>MarcusStoinis</td>\n",
       "      <td>not_out</td>\n",
       "      <td>6</td>\n",
       "      <td>3</td>\n",
       "      <td>1</td>\n",
       "      <td>0</td>\n",
       "      <td>200.00</td>\n",
       "    </tr>\n",
       "    <tr>\n",
       "      <th>2684</th>\n",
       "      <td>T208781</td>\n",
       "      <td>Titans Vs Mumbai</td>\n",
       "      <td>Titans</td>\n",
       "      <td>3</td>\n",
       "      <td>HardikPandya</td>\n",
       "      <td>out</td>\n",
       "      <td>13</td>\n",
       "      <td>14</td>\n",
       "      <td>1</td>\n",
       "      <td>0</td>\n",
       "      <td>92.85</td>\n",
       "    </tr>\n",
       "  </tbody>\n",
       "</table>\n",
       "</div>"
      ],
      "text/plain": [
       "     match_id                   match teamInnings  battingPos  \\\n",
       "2850  T205539  Super Giants Vs Royals      Royals           6   \n",
       "1289  T201720        Mumbai Vs Titans      Mumbai           3   \n",
       "881   T209178        KKR Vs Sunrisers   Sunrisers           3   \n",
       "556   T201595         KKR Vs Capitals    Capitals           4   \n",
       "2684  T208781        Titans Vs Mumbai      Titans           3   \n",
       "\n",
       "          batsmanName out/not_out  runs  balls  4s  6s      SR  \n",
       "2850       RiyanParag     not_out    15     12   1   1  125.00  \n",
       "1289  SuryakumarYadav         out    13     11   0   1  118.18  \n",
       "881      ManishPandey     not_out    61     44   2   3  138.63  \n",
       "556     MarcusStoinis     not_out     6      3   1   0  200.00  \n",
       "2684     HardikPandya         out    13     14   1   0   92.85  "
      ]
     },
     "execution_count": 5,
     "metadata": {},
     "output_type": "execute_result"
    }
   ],
   "source": [
    "fact_batting.sample(5)"
   ]
  },
  {
   "cell_type": "code",
   "execution_count": 6,
   "id": "9e38cb70-b752-473b-b5dc-d6b0a3ed8214",
   "metadata": {},
   "outputs": [
    {
     "data": {
      "text/html": [
       "<div>\n",
       "<style scoped>\n",
       "    .dataframe tbody tr th:only-of-type {\n",
       "        vertical-align: middle;\n",
       "    }\n",
       "\n",
       "    .dataframe tbody tr th {\n",
       "        vertical-align: top;\n",
       "    }\n",
       "\n",
       "    .dataframe thead th {\n",
       "        text-align: right;\n",
       "    }\n",
       "</style>\n",
       "<table border=\"1\" class=\"dataframe\">\n",
       "  <thead>\n",
       "    <tr style=\"text-align: right;\">\n",
       "      <th></th>\n",
       "      <th>match_id</th>\n",
       "      <th>match</th>\n",
       "      <th>bowlingTeam</th>\n",
       "      <th>bowlerName</th>\n",
       "      <th>overs</th>\n",
       "      <th>maiden</th>\n",
       "      <th>runs</th>\n",
       "      <th>wickets</th>\n",
       "      <th>economy</th>\n",
       "      <th>0s</th>\n",
       "      <th>4s</th>\n",
       "      <th>6s</th>\n",
       "      <th>wides</th>\n",
       "      <th>noBalls</th>\n",
       "    </tr>\n",
       "  </thead>\n",
       "  <tbody>\n",
       "    <tr>\n",
       "      <th>0</th>\n",
       "      <td>T203817</td>\n",
       "      <td>Super Kings Vs KKR</td>\n",
       "      <td>KKR</td>\n",
       "      <td>ShakibAlHasan</td>\n",
       "      <td>3.0</td>\n",
       "      <td>0</td>\n",
       "      <td>33</td>\n",
       "      <td>0</td>\n",
       "      <td>11.0</td>\n",
       "      <td>6</td>\n",
       "      <td>2</td>\n",
       "      <td>3</td>\n",
       "      <td>0</td>\n",
       "      <td>0</td>\n",
       "    </tr>\n",
       "    <tr>\n",
       "      <th>1</th>\n",
       "      <td>T203817</td>\n",
       "      <td>Super Kings Vs KKR</td>\n",
       "      <td>KKR</td>\n",
       "      <td>ShivamMavi</td>\n",
       "      <td>4.0</td>\n",
       "      <td>0</td>\n",
       "      <td>32</td>\n",
       "      <td>1</td>\n",
       "      <td>8.0</td>\n",
       "      <td>8</td>\n",
       "      <td>1</td>\n",
       "      <td>2</td>\n",
       "      <td>0</td>\n",
       "      <td>0</td>\n",
       "    </tr>\n",
       "    <tr>\n",
       "      <th>2</th>\n",
       "      <td>T203817</td>\n",
       "      <td>Super Kings Vs KKR</td>\n",
       "      <td>KKR</td>\n",
       "      <td>LockieFerguson</td>\n",
       "      <td>4.0</td>\n",
       "      <td>0</td>\n",
       "      <td>56</td>\n",
       "      <td>0</td>\n",
       "      <td>14.0</td>\n",
       "      <td>4</td>\n",
       "      <td>7</td>\n",
       "      <td>2</td>\n",
       "      <td>2</td>\n",
       "      <td>0</td>\n",
       "    </tr>\n",
       "    <tr>\n",
       "      <th>3</th>\n",
       "      <td>T203817</td>\n",
       "      <td>Super Kings Vs KKR</td>\n",
       "      <td>KKR</td>\n",
       "      <td>VarunChakravarthy</td>\n",
       "      <td>4.0</td>\n",
       "      <td>0</td>\n",
       "      <td>38</td>\n",
       "      <td>0</td>\n",
       "      <td>9.5</td>\n",
       "      <td>5</td>\n",
       "      <td>2</td>\n",
       "      <td>2</td>\n",
       "      <td>0</td>\n",
       "      <td>1</td>\n",
       "    </tr>\n",
       "    <tr>\n",
       "      <th>4</th>\n",
       "      <td>T203817</td>\n",
       "      <td>Super Kings Vs KKR</td>\n",
       "      <td>KKR</td>\n",
       "      <td>SunilNarine</td>\n",
       "      <td>4.0</td>\n",
       "      <td>0</td>\n",
       "      <td>26</td>\n",
       "      <td>2</td>\n",
       "      <td>6.5</td>\n",
       "      <td>6</td>\n",
       "      <td>0</td>\n",
       "      <td>1</td>\n",
       "      <td>1</td>\n",
       "      <td>0</td>\n",
       "    </tr>\n",
       "    <tr>\n",
       "      <th>5</th>\n",
       "      <td>T203817</td>\n",
       "      <td>Super Kings Vs KKR</td>\n",
       "      <td>KKR</td>\n",
       "      <td>VenkateshIyer</td>\n",
       "      <td>1.0</td>\n",
       "      <td>0</td>\n",
       "      <td>5</td>\n",
       "      <td>0</td>\n",
       "      <td>5.0</td>\n",
       "      <td>2</td>\n",
       "      <td>0</td>\n",
       "      <td>0</td>\n",
       "      <td>0</td>\n",
       "      <td>0</td>\n",
       "    </tr>\n",
       "    <tr>\n",
       "      <th>6</th>\n",
       "      <td>T203817</td>\n",
       "      <td>Super Kings Vs KKR</td>\n",
       "      <td>Super Kings</td>\n",
       "      <td>DeepakChahar</td>\n",
       "      <td>4.0</td>\n",
       "      <td>0</td>\n",
       "      <td>32</td>\n",
       "      <td>1</td>\n",
       "      <td>8.0</td>\n",
       "      <td>10</td>\n",
       "      <td>4</td>\n",
       "      <td>1</td>\n",
       "      <td>1</td>\n",
       "      <td>0</td>\n",
       "    </tr>\n",
       "  </tbody>\n",
       "</table>\n",
       "</div>"
      ],
      "text/plain": [
       "  match_id               match  bowlingTeam         bowlerName  overs  maiden  \\\n",
       "0  T203817  Super Kings Vs KKR          KKR      ShakibAlHasan    3.0       0   \n",
       "1  T203817  Super Kings Vs KKR          KKR         ShivamMavi    4.0       0   \n",
       "2  T203817  Super Kings Vs KKR          KKR     LockieFerguson    4.0       0   \n",
       "3  T203817  Super Kings Vs KKR          KKR  VarunChakravarthy    4.0       0   \n",
       "4  T203817  Super Kings Vs KKR          KKR        SunilNarine    4.0       0   \n",
       "5  T203817  Super Kings Vs KKR          KKR      VenkateshIyer    1.0       0   \n",
       "6  T203817  Super Kings Vs KKR  Super Kings       DeepakChahar    4.0       0   \n",
       "\n",
       "   runs  wickets  economy  0s  4s  6s  wides  noBalls  \n",
       "0    33        0     11.0   6   2   3      0        0  \n",
       "1    32        1      8.0   8   1   2      0        0  \n",
       "2    56        0     14.0   4   7   2      2        0  \n",
       "3    38        0      9.5   5   2   2      0        1  \n",
       "4    26        2      6.5   6   0   1      1        0  \n",
       "5     5        0      5.0   2   0   0      0        0  \n",
       "6    32        1      8.0  10   4   1      1        0  "
      ]
     },
     "execution_count": 6,
     "metadata": {},
     "output_type": "execute_result"
    }
   ],
   "source": [
    "fact_balling[0:7]"
   ]
  },
  {
   "cell_type": "markdown",
   "id": "d3d0de86-d548-4851-805d-0498a773395a",
   "metadata": {},
   "source": [
    "## Expolatory Data Analysis"
   ]
  },
  {
   "cell_type": "markdown",
   "id": "41cfc96f-ce33-4e98-a8e7-ff92b67a6fa9",
   "metadata": {},
   "source": [
    "### Total wins for each team:"
   ]
  },
  {
   "cell_type": "code",
   "execution_count": 7,
   "id": "bc7e3e00-b018-47a5-b83f-eae7cec74fc6",
   "metadata": {},
   "outputs": [],
   "source": [
    "gp = dim_match_summary.groupby('winner')"
   ]
  },
  {
   "cell_type": "code",
   "execution_count": 8,
   "id": "378857f6-6f8e-4d20-ae0d-ec1557730d0b",
   "metadata": {},
   "outputs": [
    {
     "data": {
      "text/plain": [
       "winner\n",
       "Capitals        21\n",
       "KKR             21\n",
       "Mumbai          20\n",
       "Punjab Kings    19\n",
       "RCB             25\n",
       "Royals          22\n",
       "Sunrisers       13\n",
       "Super Giants    17\n",
       "Super Kings     25\n",
       "Titans          23\n",
       "dtype: int64"
      ]
     },
     "execution_count": 8,
     "metadata": {},
     "output_type": "execute_result"
    }
   ],
   "source": [
    "gp.size()"
   ]
  },
  {
   "cell_type": "markdown",
   "id": "e2e12de5-22f4-41f4-8d6b-d7c0e0d24c65",
   "metadata": {},
   "source": [
    "### Lets check the number of matches for each season:"
   ]
  },
  {
   "cell_type": "code",
   "execution_count": 9,
   "id": "a2f4fddd-025d-41ed-b853-3fa85ca0923b",
   "metadata": {},
   "outputs": [
    {
     "data": {
      "text/plain": [
       "matchDate\n",
       "2021    59\n",
       "2022    74\n",
       "2023    72\n",
       "2029     1\n",
       "dtype: int64"
      ]
     },
     "execution_count": 9,
     "metadata": {},
     "output_type": "execute_result"
    }
   ],
   "source": [
    "season = pd.to_datetime(dim_match_summary['matchDate']).dt.year\n",
    "season_grouped = dim_match_summary.groupby(season)\n",
    "season_grouped.size()"
   ]
  },
  {
   "cell_type": "markdown",
   "id": "d4455936-bbf2-4320-9171-6aa661b6518c",
   "metadata": {},
   "source": [
    "### Top 10 batsmen based on past 3 years total runs scored:"
   ]
  },
  {
   "cell_type": "code",
   "execution_count": 10,
   "id": "d7874976-77e8-4a9c-993d-90623f334d12",
   "metadata": {},
   "outputs": [
    {
     "data": {
      "text/html": [
       "<div>\n",
       "<style scoped>\n",
       "    .dataframe tbody tr th:only-of-type {\n",
       "        vertical-align: middle;\n",
       "    }\n",
       "\n",
       "    .dataframe tbody tr th {\n",
       "        vertical-align: top;\n",
       "    }\n",
       "\n",
       "    .dataframe thead th {\n",
       "        text-align: right;\n",
       "    }\n",
       "</style>\n",
       "<table border=\"1\" class=\"dataframe\">\n",
       "  <thead>\n",
       "    <tr style=\"text-align: right;\">\n",
       "      <th></th>\n",
       "      <th>runs</th>\n",
       "      <th>balls</th>\n",
       "      <th>4s</th>\n",
       "      <th>6s</th>\n",
       "    </tr>\n",
       "    <tr>\n",
       "      <th>batsmanName</th>\n",
       "      <th></th>\n",
       "      <th></th>\n",
       "      <th></th>\n",
       "      <th></th>\n",
       "    </tr>\n",
       "  </thead>\n",
       "  <tbody>\n",
       "    <tr>\n",
       "      <th>ShubmanGill</th>\n",
       "      <td>1851</td>\n",
       "      <td>1331</td>\n",
       "      <td>186</td>\n",
       "      <td>56</td>\n",
       "    </tr>\n",
       "    <tr>\n",
       "      <th>FafduPlessis</th>\n",
       "      <td>1831</td>\n",
       "      <td>1300</td>\n",
       "      <td>169</td>\n",
       "      <td>72</td>\n",
       "    </tr>\n",
       "    <tr>\n",
       "      <th>RuturajGaikwad</th>\n",
       "      <td>1593</td>\n",
       "      <td>1157</td>\n",
       "      <td>143</td>\n",
       "      <td>67</td>\n",
       "    </tr>\n",
       "    <tr>\n",
       "      <th>KLRahul</th>\n",
       "      <td>1516</td>\n",
       "      <td>1148</td>\n",
       "      <td>121</td>\n",
       "      <td>64</td>\n",
       "    </tr>\n",
       "    <tr>\n",
       "      <th>JosButtler</th>\n",
       "      <td>1509</td>\n",
       "      <td>1027</td>\n",
       "      <td>152</td>\n",
       "      <td>72</td>\n",
       "    </tr>\n",
       "    <tr>\n",
       "      <th>ShikharDhawan</th>\n",
       "      <td>1392</td>\n",
       "      <td>1081</td>\n",
       "      <td>156</td>\n",
       "      <td>40</td>\n",
       "    </tr>\n",
       "    <tr>\n",
       "      <th>ViratKohli</th>\n",
       "      <td>1385</td>\n",
       "      <td>1090</td>\n",
       "      <td>140</td>\n",
       "      <td>33</td>\n",
       "    </tr>\n",
       "    <tr>\n",
       "      <th>SanjuSamson</th>\n",
       "      <td>1304</td>\n",
       "      <td>902</td>\n",
       "      <td>113</td>\n",
       "      <td>67</td>\n",
       "    </tr>\n",
       "    <tr>\n",
       "      <th>SuryakumarYadav</th>\n",
       "      <td>1225</td>\n",
       "      <td>763</td>\n",
       "      <td>128</td>\n",
       "      <td>54</td>\n",
       "    </tr>\n",
       "    <tr>\n",
       "      <th>GlennMaxwell</th>\n",
       "      <td>1214</td>\n",
       "      <td>752</td>\n",
       "      <td>108</td>\n",
       "      <td>67</td>\n",
       "    </tr>\n",
       "  </tbody>\n",
       "</table>\n",
       "</div>"
      ],
      "text/plain": [
       "                 runs  balls   4s  6s\n",
       "batsmanName                          \n",
       "ShubmanGill      1851   1331  186  56\n",
       "FafduPlessis     1831   1300  169  72\n",
       "RuturajGaikwad   1593   1157  143  67\n",
       "KLRahul          1516   1148  121  64\n",
       "JosButtler       1509   1027  152  72\n",
       "ShikharDhawan    1392   1081  156  40\n",
       "ViratKohli       1385   1090  140  33\n",
       "SanjuSamson      1304    902  113  67\n",
       "SuryakumarYadav  1225    763  128  54\n",
       "GlennMaxwell     1214    752  108  67"
      ]
     },
     "execution_count": 10,
     "metadata": {},
     "output_type": "execute_result"
    }
   ],
   "source": [
    "batsman_runs = fact_batting.groupby('batsmanName').sum('runs')\n",
    "batsman_runs.sort_values(by=['runs'], ascending = False ).head(10)[['runs','balls','4s','6s']]"
   ]
  },
  {
   "cell_type": "markdown",
   "id": "532122cc-735d-4206-a6cb-ed95a9b6b29e",
   "metadata": {},
   "source": [
    "### Top 10 bowlers based on past 3 years total wickets taken."
   ]
  },
  {
   "cell_type": "code",
   "execution_count": 11,
   "id": "29fcc804-6d28-429f-9f7a-bc6316e8d52a",
   "metadata": {},
   "outputs": [
    {
     "data": {
      "text/plain": [
       "bowlerName\n",
       "MohammedShami        67\n",
       "YuzvendraChahal      66\n",
       "HarshalPatel         65\n",
       "RashidKhan           63\n",
       "AveshKhan            47\n",
       "KagisoRabada         45\n",
       "ArshdeepSingh        45\n",
       "VarunChakravarthy    44\n",
       "ShardulThakur        43\n",
       "TrentBoult           42\n",
       "Name: wickets, dtype: int64"
      ]
     },
     "execution_count": 11,
     "metadata": {},
     "output_type": "execute_result"
    }
   ],
   "source": [
    "bowler_wicket = fact_balling.groupby('bowlerName').sum('wickets')\n",
    "bowler_wicket.sort_values(by=['wickets'], ascending = False ).head(10)['wickets']"
   ]
  },
  {
   "cell_type": "markdown",
   "id": "1136c3d0-e9eb-473f-81f5-0ab59fdac0b5",
   "metadata": {},
   "source": [
    "### Top 5 batsmen based on past 3 years boundary % (fours and sixes)."
   ]
  },
  {
   "cell_type": "code",
   "execution_count": 12,
   "id": "31962b24-3ce5-4ca5-a511-2356c97224aa",
   "metadata": {},
   "outputs": [
    {
     "data": {
      "text/html": [
       "<div>\n",
       "<style scoped>\n",
       "    .dataframe tbody tr th:only-of-type {\n",
       "        vertical-align: middle;\n",
       "    }\n",
       "\n",
       "    .dataframe tbody tr th {\n",
       "        vertical-align: top;\n",
       "    }\n",
       "\n",
       "    .dataframe thead th {\n",
       "        text-align: right;\n",
       "    }\n",
       "</style>\n",
       "<table border=\"1\" class=\"dataframe\">\n",
       "  <thead>\n",
       "    <tr style=\"text-align: right;\">\n",
       "      <th></th>\n",
       "      <th>balls</th>\n",
       "      <th>TotalBoundaries</th>\n",
       "      <th>Boundaries%</th>\n",
       "    </tr>\n",
       "    <tr>\n",
       "      <th>batsmanName</th>\n",
       "      <th></th>\n",
       "      <th></th>\n",
       "      <th></th>\n",
       "    </tr>\n",
       "  </thead>\n",
       "  <tbody>\n",
       "    <tr>\n",
       "      <th>RashidKhan</th>\n",
       "      <td>172</td>\n",
       "      <td>44</td>\n",
       "      <td>25.581395</td>\n",
       "    </tr>\n",
       "    <tr>\n",
       "      <th>YashasviJaiswal</th>\n",
       "      <td>744</td>\n",
       "      <td>188</td>\n",
       "      <td>25.268817</td>\n",
       "    </tr>\n",
       "    <tr>\n",
       "      <th>PrithviShaw</th>\n",
       "      <td>532</td>\n",
       "      <td>130</td>\n",
       "      <td>24.436090</td>\n",
       "    </tr>\n",
       "    <tr>\n",
       "      <th>SuryakumarYadav</th>\n",
       "      <td>763</td>\n",
       "      <td>182</td>\n",
       "      <td>23.853211</td>\n",
       "    </tr>\n",
       "    <tr>\n",
       "      <th>KyleMayers</th>\n",
       "      <td>246</td>\n",
       "      <td>58</td>\n",
       "      <td>23.577236</td>\n",
       "    </tr>\n",
       "  </tbody>\n",
       "</table>\n",
       "</div>"
      ],
      "text/plain": [
       "                 balls  TotalBoundaries  Boundaries%\n",
       "batsmanName                                         \n",
       "RashidKhan         172               44    25.581395\n",
       "YashasviJaiswal    744              188    25.268817\n",
       "PrithviShaw        532              130    24.436090\n",
       "SuryakumarYadav    763              182    23.853211\n",
       "KyleMayers         246               58    23.577236"
      ]
     },
     "execution_count": 12,
     "metadata": {},
     "output_type": "execute_result"
    }
   ],
   "source": [
    "group_name = fact_batting.groupby('batsmanName').sum('6s')\n",
    "group_name['TotalBoundaries']=group_name['4s']+group_name['6s']\n",
    "group_name['Boundaries%'] = (group_name['TotalBoundaries']/group_name['balls'])*100\n",
    "sorted_data = group_name[group_name['balls']>150].sort_values(by=['Boundaries%'],ascending=False)\n",
    "sorted_data.head(5)[['balls','TotalBoundaries','Boundaries%']]"
   ]
  },
  {
   "cell_type": "markdown",
   "id": "b6b59bd0-c2d6-4023-988a-74d13deeab70",
   "metadata": {},
   "source": [
    "### Top 5 bowlers based on past 3 years dot ball %."
   ]
  },
  {
   "cell_type": "code",
   "execution_count": 13,
   "id": "530a3a29-23be-4612-8bc1-78cd99c60217",
   "metadata": {},
   "outputs": [
    {
     "data": {
      "text/plain": [
       "bowlerName\n",
       "MohsinKhan        50.387597\n",
       "PrasidhKrishna    48.119822\n",
       "MohammedSiraj     47.712418\n",
       "MohammedShami     47.645740\n",
       "TrentBoult        46.529620\n",
       "Name: dot_balls_%, dtype: float64"
      ]
     },
     "execution_count": 13,
     "metadata": {},
     "output_type": "execute_result"
    }
   ],
   "source": [
    "fact_balling['balls']= fact_balling['overs']*6\n",
    "grouped_bowler_data = fact_balling.groupby('bowlerName').sum('0s')\n",
    "grouped_bowler_data['dot_balls_%']=(grouped_bowler_data['0s']/grouped_bowler_data['balls'])*100\n",
    "final_group = grouped_bowler_data[grouped_bowler_data['balls']>180]\n",
    "final_group['dot_balls_%'].nlargest(5)"
   ]
  },
  {
   "cell_type": "markdown",
   "id": "c85500aa-0cd1-4e46-a395-d1f4b53b71ba",
   "metadata": {},
   "source": [
    "### Top 4 teams based on past 3 years winning %."
   ]
  },
  {
   "cell_type": "code",
   "execution_count": 14,
   "id": "96c7e129-beb3-41d5-a9af-a9289669e9a6",
   "metadata": {},
   "outputs": [
    {
     "data": {
      "text/plain": [
       "winner\n",
       "Titans          69.696970\n",
       "Super Giants    58.620690\n",
       "RCB             55.555556\n",
       "Super Kings     55.555556\n",
       "dtype: float64"
      ]
     },
     "execution_count": 14,
     "metadata": {},
     "output_type": "execute_result"
    }
   ],
   "source": [
    "matches_won = dim_match_summary.groupby('winner').size()\n",
    "team1_played = dim_match_summary.groupby('team1').count()['match_id']\n",
    "team2_played = dim_match_summary.groupby('team2').count()['match_id']\n",
    "total_matchs = team1_played+team2_played\n",
    "((matches_won/(total_matchs))*100).nlargest(4)"
   ]
  },
  {
   "cell_type": "markdown",
   "id": "1e99b4be-3b47-458d-bf35-d5c9c1233e28",
   "metadata": {},
   "source": [
    "### Top 2 teams with the highest number of wins achieved by chasing targets over the past 3 years."
   ]
  },
  {
   "cell_type": "code",
   "execution_count": 15,
   "id": "6b16ca1d-8aa2-453e-94de-2c47fcd78db8",
   "metadata": {},
   "outputs": [
    {
     "data": {
      "text/plain": [
       "winner\n",
       "Capitals    14\n",
       "KKR         14\n",
       "dtype: int64"
      ]
     },
     "execution_count": 15,
     "metadata": {},
     "output_type": "execute_result"
    }
   ],
   "source": [
    "chased_win_team = dim_match_summary[dim_match_summary['team2'] == dim_match_summary['winner']]\n",
    "chased_win_team.groupby('winner').size().nlargest(2)"
   ]
  },
  {
   "cell_type": "markdown",
   "id": "35359e27-bf7d-4754-bf66-b72f815f61d5",
   "metadata": {},
   "source": [
    "### Top 10 batsmen based on past 3 years batting average. (min 60 balls faced in each season)"
   ]
  },
  {
   "cell_type": "code",
   "execution_count": 16,
   "id": "e32ed2e4-af5d-42fc-9996-5770cc8df38f",
   "metadata": {},
   "outputs": [
    {
     "data": {
      "text/plain": [
       "batsmanName\n",
       "KLRahul            50.53\n",
       "FafduPlessis       43.60\n",
       "DavidMiller        43.20\n",
       "JosButtler         41.92\n",
       "ShimronHetmyer     40.67\n",
       "ShubmanGill        40.27\n",
       "ShikharDhawan      39.77\n",
       "RuturajGaikwad     38.22\n",
       "DavidWarner        37.90\n",
       "SuryakumarYadav    35.00\n",
       "Name: batting_average, dtype: float64"
      ]
     },
     "execution_count": 16,
     "metadata": {},
     "output_type": "execute_result"
    }
   ],
   "source": [
    "# First we create a new df with matchDate merged into fact_batting:\n",
    "bat_with_date = fact_batting.merge(dim_match_summary[['match_id','matchDate']], how = 'inner', on = 'match_id')\n",
    "# Let's add the season column too:\n",
    "bat_with_date['Season'] = pd.to_datetime(bat_with_date['matchDate']).dt.year\n",
    "# Let's get the total runs by each player:\n",
    "batsman_60 = bat_with_date.groupby(['Season','batsmanName']).filter(lambda x:(x['balls'].sum()>=60).all())\n",
    "# Here we are specifying the condition that we only need those players who played in all the last three seasosn:\n",
    "seasons_played = batsman_60.groupby('batsmanName')['Season'].nunique()\n",
    "batsman_with_3_season = seasons_played[seasons_played == 3].index\n",
    "new_batsman_60 = batsman_60[batsman_60['batsmanName'].isin(batsman_with_3_season)]\n",
    "# Now calculate total runs and outs for these players\n",
    "total_runs = new_batsman_60.groupby('batsmanName')['runs'].sum()\n",
    "total_outs = new_batsman_60[new_batsman_60['out/not_out'] == 'out'].groupby('batsmanName').size()\n",
    "# Here we concatenated the two df's:\n",
    "batting_stats = pd.concat([total_runs,total_outs],axis = 1)\n",
    "# Renaming the columns for better understanding:\n",
    "batting_stats.columns = ['Total_runs',\"Total_out\"]\n",
    "# Last we can find the batting average:\n",
    "batting_stats['batting_average'] = round(batting_stats['Total_runs']/batting_stats['Total_out'],2)\n",
    "# now we can see the top 10:\n",
    "batting_stats['batting_average'].nlargest(10)"
   ]
  },
  {
   "cell_type": "markdown",
   "id": "98bd26f6-a3dc-419b-955f-48070b24b9a0",
   "metadata": {},
   "source": [
    "### Top 10 bowlers based on past 3 years economy rate. (min 60 balls bowled in each season)"
   ]
  },
  {
   "cell_type": "code",
   "execution_count": 17,
   "id": "dad3feaa-0011-4690-834c-1bec7535f9aa",
   "metadata": {},
   "outputs": [
    {
     "data": {
      "text/plain": [
       "bowlerName\n",
       "SunilNarine           6.600000\n",
       "MoeenAli              7.086280\n",
       "RashidKhan            7.091922\n",
       "AxarPatel             7.113636\n",
       "RavindraJadeja        7.393939\n",
       "KrunalPandya          7.453581\n",
       "RavichandranAshwin    7.532051\n",
       "VarunChakravarthy     7.584693\n",
       "HarpreetBrar          7.609682\n",
       "RaviBishnoi           7.676408\n",
       "Name: economy, dtype: float64"
      ]
     },
     "execution_count": 17,
     "metadata": {},
     "output_type": "execute_result"
    }
   ],
   "source": [
    "#mergeing the tables to get the season:\n",
    "new_fact_balling = fact_balling.merge(dim_match_summary[['match_id','matchDate']],how = 'inner', on = 'match_id')\n",
    "#Extracting the year(seaosn) from the date column:\n",
    "new_fact_balling['season'] = pd.to_datetime(new_fact_balling['matchDate']).dt.year\n",
    "#Let's define the condition that the players should have balled 60> more balls:\n",
    "new_fact_balling_60 = new_fact_balling.groupby(['season','bowlerName']).filter(lambda x:(x['overs'].sum()>=10))\n",
    "#Let's start the process of filtering out only those players who have playes all three season:\n",
    "season_played = new_fact_balling_60.groupby('bowlerName')['season'].nunique()\n",
    "season_played_3 = season_played[season_played==3].index\n",
    "new_df = new_fact_balling_60[new_fact_balling_60['bowlerName'].isin(season_played_3)]\n",
    "#Now all we need is to group by the names and start finding the economy rates:\n",
    "final_df = new_df.groupby('bowlerName').agg({'overs': 'sum', 'runs': 'sum'})\n",
    "final_df['economy'] = final_df['runs'] / final_df['overs']\n",
    "final_df['economy'].nsmallest(10)"
   ]
  },
  {
   "cell_type": "markdown",
   "id": "28981fb3-df77-450c-9ac5-f3ca4b1dc8d6",
   "metadata": {},
   "source": [
    "### Orange and Purple Cap players for each season:\n",
    "### Orange Cap:"
   ]
  },
  {
   "cell_type": "code",
   "execution_count": 18,
   "id": "2a1c2331-a507-4395-950a-da8dd614d7fe",
   "metadata": {},
   "outputs": [
    {
     "data": {
      "text/plain": [
       "Season  batsmanName   \n",
       "2021    RuturajGaikwad    1.0\n",
       "2022    JosButtler        1.0\n",
       "2023    ShubmanGill       1.0\n",
       "Name: runs, dtype: float64"
      ]
     },
     "execution_count": 18,
     "metadata": {},
     "output_type": "execute_result"
    }
   ],
   "source": [
    "#We are using the merged df we made before with seasons extracted.\n",
    "#Now we need to group it as per the seasons and the batsmans:\n",
    "total_runs = bat_with_date.groupby(['Season','batsmanName']).sum('runs')\n",
    "ranked = total_runs.groupby('Season').rank(ascending = False)\n",
    "Orange_cap = ranked['runs'].nsmallest(3)\n",
    "Orange_cap"
   ]
  },
  {
   "cell_type": "markdown",
   "id": "97ea5a07-c917-4b4f-a9a7-8cb3b4a6d8f3",
   "metadata": {},
   "source": [
    "### Similarly we can find the purple cap players too:"
   ]
  },
  {
   "cell_type": "code",
   "execution_count": 19,
   "id": "3eb0f667-10b6-4bdd-940e-48b385c31204",
   "metadata": {},
   "outputs": [
    {
     "data": {
      "text/plain": [
       "season  bowlerName     \n",
       "2021    HarshalPatel       1.0\n",
       "2022    YuzvendraChahal    1.0\n",
       "2023    MohammedShami      1.0\n",
       "Name: wickets, dtype: float64"
      ]
     },
     "execution_count": 19,
     "metadata": {},
     "output_type": "execute_result"
    }
   ],
   "source": [
    "total_wickets = new_fact_balling.groupby(['season','bowlerName']).sum('wickets')\n",
    "ranked = total_wickets.groupby('season').rank(ascending = False)\n",
    "Purple_cap = ranked['wickets'].nsmallest(3)\n",
    "Purple_cap"
   ]
  }
 ],
 "metadata": {
  "kernelspec": {
   "display_name": "Python 3 (ipykernel)",
   "language": "python",
   "name": "python3"
  },
  "language_info": {
   "codemirror_mode": {
    "name": "ipython",
    "version": 3
   },
   "file_extension": ".py",
   "mimetype": "text/x-python",
   "name": "python",
   "nbconvert_exporter": "python",
   "pygments_lexer": "ipython3",
   "version": "3.11.4"
  }
 },
 "nbformat": 4,
 "nbformat_minor": 5
}
